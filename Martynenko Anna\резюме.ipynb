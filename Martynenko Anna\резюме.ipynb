{
  "nbformat": 4,
  "nbformat_minor": 0,
  "metadata": {
    "colab": {
      "provenance": [],
      "include_colab_link": true
    },
    "kernelspec": {
      "name": "python3",
      "display_name": "Python 3"
    },
    "language_info": {
      "name": "python"
    }
  },
  "cells": [
    {
      "cell_type": "markdown",
      "metadata": {
        "id": "view-in-github",
        "colab_type": "text"
      },
      "source": [
        "<a href=\"https://colab.research.google.com/github/Untick/InspectrumClinic_HR_gr2/blob/Martynenko-Anna-folder/Martynenko%20Anna%5C%D1%80%D0%B5%D0%B7%D1%8E%D0%BC%D0%B5.ipynb\" target=\"_parent\"><img src=\"https://colab.research.google.com/assets/colab-badge.svg\" alt=\"Open In Colab\"/></a>"
      ]
    },
    {
      "cell_type": "code",
      "execution_count": null,
      "metadata": {
        "id": "qfRoCWoJwhS7"
      },
      "outputs": [],
      "source": [
        "import numpy as np \n",
        "import pandas as pd \n",
        "import re\n",
        "import gdown\n",
        "gdown.download('https://docs.google.com/spreadsheets/d/1HA6y4wvR5smC8FuuB7WnYOr_qEKaRSk_') \n",
        "\n",
        "#data = pd.read_excel('https://docs.google.com/spreadsheets/d/1HA6y4wvR5smC8FuuB7WnYOr_qEKaRSk_')     # загрузка файла в колаб"
      ]
    },
    {
      "cell_type": "code",
      "source": [
        "data=pd.read_excel('https://docs.google.com/spreadsheets/d/1HA6y4wvR5smC8FuuB7WnYOr_qEKaRSk_')   # создаем переменую data"
      ],
      "metadata": {
        "id": "IxoCQse8yhjl"
      },
      "execution_count": null,
      "outputs": []
    },
    {
      "cell_type": "code",
      "source": [
        "data.head() # выводим первые пять строк"
      ],
      "metadata": {
        "id": "iJmB3yGdGwCZ"
      },
      "execution_count": null,
      "outputs": []
    },
    {
      "cell_type": "code",
      "source": [
        "data.shape  # размер датафрейм: количество строк и количество столбцов"
      ],
      "metadata": {
        "id": "jHWHARFxK0O6",
        "colab": {
          "base_uri": "https://localhost:8080/"
        },
        "outputId": "19ed4718-b3e9-4821-fb9d-c0e7db0edd8f"
      },
      "execution_count": null,
      "outputs": [
        {
          "output_type": "execute_result",
          "data": {
            "text/plain": [
              "(118, 5438)"
            ]
          },
          "metadata": {},
          "execution_count": 48
        }
      ]
    },
    {
      "cell_type": "code",
      "source": [
        "data.size  # количество элементов в таблице"
      ],
      "metadata": {
        "id": "b2MVmXwaK9l6",
        "colab": {
          "base_uri": "https://localhost:8080/"
        },
        "outputId": "5755b400-7e00-4de5-9413-86df0a59dfb2"
      },
      "execution_count": null,
      "outputs": [
        {
          "output_type": "execute_result",
          "data": {
            "text/plain": [
              "641684"
            ]
          },
          "metadata": {},
          "execution_count": 39
        }
      ]
    },
    {
      "cell_type": "code",
      "source": [
        "data.info     # возвращает  в каждом столбце:кол-во непустых записей, тип данных, сколькько раз встречается каждый тип данных, сколько места занимает датафрейм"
      ],
      "metadata": {
        "id": "BjXNFJgsPU0X"
      },
      "execution_count": null,
      "outputs": []
    },
    {
      "cell_type": "code",
      "source": [
        "data.isha().head()         # таблица с данными с значениями, где true- ячейка пуста, false-ячейка заполнена"
      ],
      "metadata": {
        "id": "7Qg5DoejRaLb"
      },
      "execution_count": null,
      "outputs": []
    },
    {
      "cell_type": "code",
      "source": [
        "data.isha().sum()           # подсчет количество пропусков в каждом столбце"
      ],
      "metadata": {
        "id": "-Y1ipWv7RqZl"
      },
      "execution_count": null,
      "outputs": []
    },
    {
      "cell_type": "code",
      "source": [
        "data.isha().sum()/data.shape[0]  # вычисление доли пропусков от общего количества элементов"
      ],
      "metadata": {
        "id": "h0nqef9dTFO0"
      },
      "execution_count": null,
      "outputs": []
    },
    {
      "cell_type": "code",
      "source": [
        "data.isha().sum().sum()     # вычисление общего количества пропусков во всей таблице"
      ],
      "metadata": {
        "id": "RKmbh-KYTnyu"
      },
      "execution_count": null,
      "outputs": []
    },
    {
      "cell_type": "code",
      "source": [
        "proc = data.isha().sum().sum()/data.size    # переводим в проценты\n",
        "print('{:.1%}'.format(proc))"
      ],
      "metadata": {
        "id": "CYBrlQWSUrMf"
      },
      "execution_count": null,
      "outputs": []
    },
    {
      "cell_type": "code",
      "source": [
        "dropna(axis=0, how='all')  # удаление пропусков"
      ],
      "metadata": {
        "id": "S2XH-kxUV9P_"
      },
      "execution_count": null,
      "outputs": []
    },
    {
      "cell_type": "code",
      "source": [
        "data.discribe() # таблица с описательными статистиками числовых столбцов"
      ],
      "metadata": {
        "id": "igo1D7i-XIMK"
      },
      "execution_count": null,
      "outputs": []
    },
    {
      "cell_type": "code",
      "source": [
        "data.discribe(include=['0'])    # статистика строковых данных"
      ],
      "metadata": {
        "id": "OhDzft1vXjOi"
      },
      "execution_count": null,
      "outputs": []
    }
  ]
}